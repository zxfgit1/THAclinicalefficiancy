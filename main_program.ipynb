{
 "cells": [
  {
   "cell_type": "code",
   "execution_count": 12,
   "metadata": {
    "ExecuteTime": {
     "end_time": "2021-09-30T09:30:05.133827Z",
     "start_time": "2021-09-30T09:30:05.115841Z"
    }
   },
   "outputs": [],
   "source": [
    "import joblib\n",
    "from getctfeatures import ct_feature\n",
    "import pandas as pd"
   ]
  },
  {
   "cell_type": "code",
   "execution_count": 3,
   "metadata": {
    "ExecuteTime": {
     "end_time": "2021-09-30T09:27:07.035474Z",
     "start_time": "2021-09-30T09:27:07.027495Z"
    }
   },
   "outputs": [],
   "source": [
    "#The outer folder with a subfolder names image with your image\n",
    "image_p = 'what_you_need/'"
   ]
  },
  {
   "cell_type": "code",
   "execution_count": 5,
   "metadata": {
    "ExecuteTime": {
     "end_time": "2021-09-30T09:27:55.663982Z",
     "start_time": "2021-09-30T09:27:55.323204Z"
    }
   },
   "outputs": [
    {
     "name": "stderr",
     "output_type": "stream",
     "text": [
      "Shape features are only available 3D input (for 2D input, use shape2D). Found 2D input\n",
      "GLCM is symmetrical, therefore Sum Average = 2 * Joint Average, only 1 needs to be calculated\n"
     ]
    },
    {
     "name": "stdout",
     "output_type": "stream",
     "text": [
      "what_you_need/image/before1.jpg\n"
     ]
    }
   ],
   "source": [
    "ct1,ct2,ct3 = ct_feature(image_p)"
   ]
  },
  {
   "cell_type": "code",
   "execution_count": 9,
   "metadata": {
    "ExecuteTime": {
     "end_time": "2021-09-30T09:28:59.281246Z",
     "start_time": "2021-09-30T09:28:59.275290Z"
    }
   },
   "outputs": [
    {
     "data": {
      "text/plain": [
       "0.767070414675066"
      ]
     },
     "execution_count": 9,
     "metadata": {},
     "output_type": "execute_result"
    }
   ],
   "source": [
    "ct1"
   ]
  },
  {
   "cell_type": "code",
   "execution_count": 10,
   "metadata": {
    "ExecuteTime": {
     "end_time": "2021-09-30T09:28:59.668696Z",
     "start_time": "2021-09-30T09:28:59.659720Z"
    }
   },
   "outputs": [
    {
     "data": {
      "text/plain": [
       "array(589.53965091)"
      ]
     },
     "execution_count": 10,
     "metadata": {},
     "output_type": "execute_result"
    }
   ],
   "source": [
    "ct2"
   ]
  },
  {
   "cell_type": "code",
   "execution_count": 11,
   "metadata": {
    "ExecuteTime": {
     "end_time": "2021-09-30T09:28:59.980314Z",
     "start_time": "2021-09-30T09:28:59.962362Z"
    }
   },
   "outputs": [
    {
     "data": {
      "text/plain": [
       "0.4391883553114891"
      ]
     },
     "execution_count": 11,
     "metadata": {},
     "output_type": "execute_result"
    }
   ],
   "source": [
    "ct3"
   ]
  },
  {
   "cell_type": "markdown",
   "metadata": {},
   "source": [
    "# Now you can change the ct1,ct2,ct3 feature values in your test csv file"
   ]
  },
  {
   "cell_type": "code",
   "execution_count": 14,
   "metadata": {
    "ExecuteTime": {
     "end_time": "2021-09-30T09:30:55.115289Z",
     "start_time": "2021-09-30T09:30:54.723460Z"
    }
   },
   "outputs": [],
   "source": [
    "# load data\n",
    "ct = pd.read_csv(\"model_test_file.csv\")\n",
    "#load model\n",
    "preoperative_model=joblib.load(\"preoperative_model.pkl\")"
   ]
  },
  {
   "cell_type": "code",
   "execution_count": 18,
   "metadata": {
    "ExecuteTime": {
     "end_time": "2021-09-30T09:33:47.382596Z",
     "start_time": "2021-09-30T09:33:47.371598Z"
    }
   },
   "outputs": [],
   "source": [
    "preoperative_outcome = preoperative_model.predict_proba(ct)[:,1]"
   ]
  },
  {
   "cell_type": "code",
   "execution_count": 19,
   "metadata": {
    "ExecuteTime": {
     "end_time": "2021-09-30T09:33:59.877287Z",
     "start_time": "2021-09-30T09:33:59.859336Z"
    }
   },
   "outputs": [],
   "source": [
    "preoperative_outcome[preoperative_outcome<0.552]=0\n",
    "preoperative_outcome[preoperative_outcome>=0.552]=1"
   ]
  },
  {
   "cell_type": "code",
   "execution_count": 20,
   "metadata": {
    "ExecuteTime": {
     "end_time": "2021-09-30T09:34:04.573370Z",
     "start_time": "2021-09-30T09:34:04.564367Z"
    }
   },
   "outputs": [
    {
     "data": {
      "text/plain": [
       "array([0., 1., 0.])"
      ]
     },
     "execution_count": 20,
     "metadata": {},
     "output_type": "execute_result"
    }
   ],
   "source": [
    "preoperative_outcome"
   ]
  },
  {
   "cell_type": "raw",
   "metadata": {},
   "source": [
    "# if your preoperative outcome =1 means you have a harris score >=90\n",
    "# if your preoperative outcome=0 means you have a harris score <90"
   ]
  }
 ],
 "metadata": {
  "kernelspec": {
   "display_name": "Python 3",
   "language": "python",
   "name": "python3"
  },
  "language_info": {
   "codemirror_mode": {
    "name": "ipython",
    "version": 3
   },
   "file_extension": ".py",
   "mimetype": "text/x-python",
   "name": "python",
   "nbconvert_exporter": "python",
   "pygments_lexer": "ipython3",
   "version": "3.8.3"
  },
  "toc": {
   "base_numbering": 1,
   "nav_menu": {},
   "number_sections": true,
   "sideBar": true,
   "skip_h1_title": false,
   "title_cell": "Table of Contents",
   "title_sidebar": "Contents",
   "toc_cell": false,
   "toc_position": {},
   "toc_section_display": true,
   "toc_window_display": false
  }
 },
 "nbformat": 4,
 "nbformat_minor": 4
}
